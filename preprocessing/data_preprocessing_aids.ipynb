{
 "cells": [
  {
   "cell_type": "code",
   "execution_count": 1,
   "metadata": {},
   "outputs": [],
   "source": [
    "import pandas as pd\n",
    "import os\n",
    "import warnings\n",
    "warnings.filterwarnings(\"ignore\")"
   ]
  },
  {
   "cell_type": "markdown",
   "metadata": {},
   "source": [
    "### Data import"
   ]
  },
  {
   "cell_type": "code",
   "execution_count": 2,
   "metadata": {},
   "outputs": [],
   "source": [
    "dataset_name = \"Aids\"\n",
    "current_path = os.getcwd()  # Get current working directory\n",
    "parent_path = os.path.dirname(current_path)\n",
    "data_dir = parent_path + \"/dataset/\" + dataset_name\n",
    "data = pd.read_csv(data_dir + '/actg320.csv', header=None)\n",
    "data.columns = [\"time\",\"censor\",\"time_d\",\"censor_d\",\"tx\",\"txgrp\",\"strat2\",\"sex\",\"raceth\",\n",
    "              \"ivdrug\",\"hemophil\",\"karnof\",\"cd4\",\"priorzdv\",\"age\"]\n",
    "data = data.drop([\"time_d\",\"censor_d\",\"txgrp\",\"hemophil\"],axis=1)"
   ]
  },
  {
   "cell_type": "markdown",
   "metadata": {},
   "source": [
    "### Data preprocessing"
   ]
  },
  {
   "cell_type": "code",
   "execution_count": 3,
   "metadata": {},
   "outputs": [],
   "source": [
    "data['ivdrug'] = 1 * (data['ivdrug'] > 1)\n",
    "data['raceth'] = data['raceth'].replace({5: 4})"
   ]
  },
  {
   "cell_type": "markdown",
   "metadata": {},
   "source": [
    "### Split data into treated and control group"
   ]
  },
  {
   "cell_type": "code",
   "execution_count": 5,
   "metadata": {},
   "outputs": [],
   "source": [
    "data_treated = data[data['tx']==1].drop([\"tx\"] , axis=1)\n",
    "data_control = data[data['tx']==0].drop([\"tx\"] , axis=1)"
   ]
  },
  {
   "cell_type": "markdown",
   "metadata": {},
   "source": [
    "### Save data"
   ]
  },
  {
   "cell_type": "code",
   "execution_count": 6,
   "metadata": {},
   "outputs": [],
   "source": [
    "data.to_csv(data_dir + \"/data.csv\", header=False, index=False)\n",
    "data_treated.to_csv(data_dir + \"/data_treated.csv\", header=False, index=False)\n",
    "data_control.to_csv(data_dir + \"/data_control.csv\", header=False, index=False)"
   ]
  }
 ],
 "metadata": {
  "kernelspec": {
   "display_name": ".venv_HI_VAE_ext",
   "language": "python",
   "name": "python3"
  },
  "language_info": {
   "codemirror_mode": {
    "name": "ipython",
    "version": 3
   },
   "file_extension": ".py",
   "mimetype": "text/x-python",
   "name": "python",
   "nbconvert_exporter": "python",
   "pygments_lexer": "ipython3",
   "version": "3.12.4"
  }
 },
 "nbformat": 4,
 "nbformat_minor": 4
}
