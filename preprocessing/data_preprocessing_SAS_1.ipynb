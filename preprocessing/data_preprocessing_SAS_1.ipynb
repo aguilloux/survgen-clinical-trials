{
 "cells": [
  {
   "cell_type": "code",
   "execution_count": 1,
   "metadata": {},
   "outputs": [],
   "source": [
    "import pandas as pd\n",
    "import numpy as np\n",
    "import os\n",
    "import warnings\n",
    "warnings.filterwarnings(\"ignore\")"
   ]
  },
  {
   "cell_type": "markdown",
   "metadata": {},
   "source": [
    "### Data import"
   ]
  },
  {
   "cell_type": "code",
   "execution_count": 2,
   "metadata": {},
   "outputs": [],
   "source": [
    "dataset_name = \"SAS_1\"\n",
    "current_path = os.getcwd()  # Get current working directory\n",
    "parent_path = os.path.dirname(current_path)\n",
    "data_dir = parent_path + \"/dataset/\" + dataset_name\n",
    "data = pd.read_sas(data_dir + '/a_eendpt.sas7bdat', format=\"sas7bdat\")\n",
    "# keep_columns = [col for col in data.columns.values if 'HGB' not in col]\n",
    "keep_columns = ['PFSDY', 'PFSCD', 'DTHDY', 'DTH', 'TXGROUP', 'SEX', 'AGE', 'B_WGTN', 'B_ECOGN', 'B_LDHN', 'B_HGB', 'BSEPON', 'MEDHINTN', 'PRTFN']\n",
    "# data = data[keep_columns].dropna()\n",
    "data = data[keep_columns]\n",
    "data = data[data['PFSDY'] <= data['DTHDY']]\n",
    "data = data.drop(['DTH', 'DTHDY'] , axis=1)\n",
    "keep_columns = data.columns.values"
   ]
  },
  {
   "cell_type": "markdown",
   "metadata": {},
   "source": [
    "### Data preprocessing"
   ]
  },
  {
   "cell_type": "code",
   "execution_count": 3,
   "metadata": {},
   "outputs": [],
   "source": [
    "# Handle missing data\n",
    "for col in keep_columns:\n",
    "    if col not in [\"TXGROUP\", \"PFSDY\", \"PFSCD\"]:\n",
    "        if len(np.unique(data[col].values)) > 20:\n",
    "            data[col].fillna(data[col].mean(), inplace=True)\n",
    "        else:\n",
    "            data[col].fillna(data[col].mode()[0], inplace=True)\n",
    "data = data[keep_columns].dropna()"
   ]
  },
  {
   "cell_type": "code",
   "execution_count": 4,
   "metadata": {},
   "outputs": [
    {
     "data": {
      "text/plain": [
       "(478, 12)"
      ]
     },
     "execution_count": 4,
     "metadata": {},
     "output_type": "execute_result"
    }
   ],
   "source": [
    "data.shape"
   ]
  },
  {
   "cell_type": "code",
   "execution_count": 5,
   "metadata": {},
   "outputs": [
    {
     "data": {
      "image/png": "[encoded data removed]",
      "text/plain": [
       "<Figure size 640x480 with 1 Axes>"
      ]
     },
     "metadata": {},
     "output_type": "display_data"
    }
   ],
   "source": [
    "import seaborn as sns\n",
    "import matplotlib.pyplot as plt\n",
    "sns.histplot(data=data[data[\"TXGROUP\"] == b'PLACEBO'] , x=\"PFSDY\", hue=\"PFSCD\", bins=100, element=\"step\", stat=\"count\", common_bins=True)\n",
    "plt.show()"
   ]
  },
  {
   "cell_type": "code",
   "execution_count": 6,
   "metadata": {},
   "outputs": [],
   "source": [
    "data = data[data[\"PFSDY\"] < 700] "
   ]
  },
  {
   "cell_type": "code",
   "execution_count": 7,
   "metadata": {},
   "outputs": [],
   "source": [
    "# Encode the features\n",
    "for col in keep_columns:\n",
    "    if col not in [\"TXGROUP\", \"PFSDY\", \"PFSCD\"]:\n",
    "    # if col not in [\"overall_survival_months\", \"overall_survival\", \"chemotherapy\", \"age_at_diagnosis\"]:\n",
    "        unique_value = np.unique(data[col].values)\n",
    "\n",
    "        # Create a mapping dictionary\n",
    "        mapping = dict(zip(unique_value, np.arange(len(unique_value))))\n",
    "\n",
    "        # Replace values in the column\n",
    "        data[col] = data[col].replace(mapping)"
   ]
  },
  {
   "cell_type": "markdown",
   "metadata": {},
   "source": [
    "### Data types"
   ]
  },
  {
   "cell_type": "code",
   "execution_count": 8,
   "metadata": {},
   "outputs": [],
   "source": [
    "data_types = [[\"name\", \"type\", \"dim\", \"nclass\"], [\"survcens\", \"surv_piecewise\", 2, np.nan]]\n",
    "for col in keep_columns:\n",
    "    if col not in [\"TXGROUP\", \"PFSDY\", \"PFSCD\"]:\n",
    "        n_unique = len(np.unique(data[col].values))\n",
    "        if n_unique < 20:\n",
    "            data_types.append([col, \"cat\", 1, n_unique])\n",
    "        else:\n",
    "            if (data[col] > 0).all():\n",
    "                data_types.append([col, \"pos\", 1, np.nan])\n",
    "            else:\n",
    "                data_types.append([col, \"real\", 1, np.nan])"
   ]
  },
  {
   "cell_type": "code",
   "execution_count": 9,
   "metadata": {},
   "outputs": [
    {
     "data": {
      "text/plain": [
       "[['name', 'type', 'dim', 'nclass'],\n",
       " ['survcens', 'surv_piecewise', 2, nan],\n",
       " ['SEX', 'cat', 1, 2],\n",
       " ['AGE', 'real', 1, nan],\n",
       " ['B_WGTN', 'cat', 1, 2],\n",
       " ['B_ECOGN', 'cat', 1, 2],\n",
       " ['B_LDHN', 'cat', 1, 2],\n",
       " ['B_HGB', 'real', 1, nan],\n",
       " ['BSEPON', 'cat', 1, 2],\n",
       " ['MEDHINTN', 'cat', 1, 2],\n",
       " ['PRTFN', 'cat', 1, 2]]"
      ]
     },
     "execution_count": 9,
     "metadata": {},
     "output_type": "execute_result"
    }
   ],
   "source": [
    "data_types"
   ]
  },
  {
   "cell_type": "markdown",
   "metadata": {},
   "source": [
    "### Split data into treated and control group"
   ]
  },
  {
   "cell_type": "code",
   "execution_count": 10,
   "metadata": {},
   "outputs": [
    {
     "data": {
      "text/plain": [
       "array([b'NESP', b'PLACEBO'], dtype=object)"
      ]
     },
     "execution_count": 10,
     "metadata": {},
     "output_type": "execute_result"
    }
   ],
   "source": [
    "np.unique(data[\"TXGROUP\"].values)"
   ]
  },
  {
   "cell_type": "code",
   "execution_count": 11,
   "metadata": {},
   "outputs": [],
   "source": [
    "data = data.rename(columns={\"PFSDY\": \"time\", \"PFSCD\": \"censor\"})\n",
    "data_treated = data[data['TXGROUP']==b'NESP'].drop(['TXGROUP'] , axis=1)\n",
    "data_control = data[data['TXGROUP']==b'PLACEBO'].drop(['TXGROUP'] , axis=1)"
   ]
  },
  {
   "cell_type": "code",
   "execution_count": 12,
   "metadata": {},
   "outputs": [
    {
     "data": {
      "text/plain": [
       "(236, 11)"
      ]
     },
     "execution_count": 12,
     "metadata": {},
     "output_type": "execute_result"
    }
   ],
   "source": [
    "data_control.shape"
   ]
  },
  {
   "cell_type": "markdown",
   "metadata": {},
   "source": [
    "### Save data"
   ]
  },
  {
   "cell_type": "code",
   "execution_count": 13,
   "metadata": {},
   "outputs": [],
   "source": [
    "import csv\n",
    "\n",
    "data.to_csv(data_dir + \"/data.csv\", header=False, index=False)\n",
    "data_treated.to_csv(data_dir + \"/data_treated.csv\", header=False, index=False)\n",
    "data_control.to_csv(data_dir + \"/data_control.csv\", header=False, index=False)\n",
    "pd.DataFrame(data_types).to_csv(data_dir + \"/data_types_treated.csv\", index=False, header=False)\n",
    "pd.DataFrame(data_types).to_csv(data_dir + \"/data_types_control.csv\", index=False, header=False)"
   ]
  },
  {
   "cell_type": "code",
   "execution_count": null,
   "metadata": {},
   "outputs": [],
   "source": []
  }
 ],
 "metadata": {
  "kernelspec": {
   "display_name": ".venv_HI_VAE_ext",
   "language": "python",
   "name": "python3"
  },
  "language_info": {
   "codemirror_mode": {
    "name": "ipython",
    "version": 3
   },
   "file_extension": ".py",
   "mimetype": "text/x-python",
   "name": "python",
   "nbconvert_exporter": "python",
   "pygments_lexer": "ipython3",
   "version": "3.12.4"
  }
 },
 "nbformat": 4,
 "nbformat_minor": 4
}
